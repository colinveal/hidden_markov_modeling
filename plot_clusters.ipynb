{
 "cells": [
  {
   "cell_type": "code",
   "execution_count": 1,
   "metadata": {},
   "outputs": [],
   "source": [
    "import matplotlib.pyplot as plt\n",
    "import seaborn as sns\n",
    "import numpy as np\n",
    "from scipy import stats"
   ]
  },
  {
   "cell_type": "code",
   "execution_count": 2,
   "metadata": {},
   "outputs": [],
   "source": [
    "def do_plot(filename):\n",
    "\n",
    "    with open(filename) as file:\n",
    "        context = file.read()\n",
    "        size = len(context)\n",
    "        arraystr= context[1:size-1]\n",
    "        arraystr = arraystr.split(',')\n",
    "        cluster_0_counts = [float(item) for item in arraystr]\n",
    "\n",
    "        n = len(cluster_0_counts)\n",
    "        print(\"Number of observations: \", n)\n",
    "        sns.distplot(cluster_0_counts, bins=35, kde=False, rug=True)\n",
    "        plt.show()"
   ]
  },
  {
   "cell_type": "code",
   "execution_count": null,
   "metadata": {},
   "outputs": [],
   "source": [
    "sns.set(color_codes=True)\n",
    "ffile = \"../\"\n",
    "do_plot(ffile +  \"cluster_0_wga_w_mean.txt\")\n",
    "do_plot(ffile +  \"cluster_0_no_wga_w_mean.txt\")\n",
    "do_plot(ffile +  \"cluster_1_wga_w_mean.txt\")\n",
    "do_plot(ffile +  \"cluster_1_no_wga_w_mean.txt\")\n",
    "do_plot(ffile +  \"cluster_2_wga_w_mean.txt\")\n",
    "do_plot(ffile +  \"cluster_2_no_wga_w_mean.txt\")\n",
    "do_plot(ffile +  \"cluster_3_wga_w_mean.txt\")\n",
    "do_plot(ffile +  \"cluster_3_no_wga_w_mean.txt\")\n",
    "do_plot(ffile +  \"cluster_4_wga_w_mean.txt\")\n",
    "do_plot(ffile +  \"cluster_4_no_wga_w_mean.txt\")"
   ]
  }
 ],
 "metadata": {
  "kernelspec": {
   "display_name": "Python 3",
   "language": "python",
   "name": "python3"
  },
  "language_info": {
   "codemirror_mode": {
    "name": "ipython",
    "version": 3
   },
   "file_extension": ".py",
   "mimetype": "text/x-python",
   "name": "python",
   "nbconvert_exporter": "python",
   "pygments_lexer": "ipython3",
   "version": "3.7.6"
  }
 },
 "nbformat": 4,
 "nbformat_minor": 4
}
